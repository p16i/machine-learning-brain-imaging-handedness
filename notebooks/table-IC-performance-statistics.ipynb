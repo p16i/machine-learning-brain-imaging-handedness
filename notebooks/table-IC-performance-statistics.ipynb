{
 "cells": [
  {
   "cell_type": "code",
   "execution_count": 52,
   "metadata": {},
   "outputs": [],
   "source": [
    "import numpy as np\n",
    "\n",
    "import pandas as pd\n",
    "\n",
    "from tabulate import tabulate\n",
    "\n",
    "from pathlib import Path\n",
    "\n",
    "from mlhand import config\n",
    "\n",
    "import json\n",
    "\n",
    "from IPython.display import display, Markdown, Latex, HTML\n",
    "\n",
    "from matplotlib import pyplot as  plt"
   ]
  },
  {
   "cell_type": "markdown",
   "metadata": {},
   "source": [
    "# Statistics Loading Function"
   ]
  },
  {
   "cell_type": "code",
   "execution_count": 53,
   "metadata": {},
   "outputs": [],
   "source": [
    "_ = pd.read_csv(\"./resources/rfmri_ics_partial_correlation_100.txt\", header=None, names=[\"model\"], sep=\";\")\n",
    "ic_models = _.model.values.tolist()"
   ]
  },
  {
   "cell_type": "code",
   "execution_count": 54,
   "metadata": {},
   "outputs": [
    {
     "data": {
      "text/plain": [
       "['rfmri_ic1_partial_correlation_100',\n",
       " 'rfmri_ic2_partial_correlation_100',\n",
       " 'rfmri_ic3_partial_correlation_100',\n",
       " 'rfmri_ic4_partial_correlation_100',\n",
       " 'rfmri_ic5_partial_correlation_100']"
      ]
     },
     "execution_count": 54,
     "metadata": {},
     "output_type": "execute_result"
    }
   ],
   "source": [
    "ic_models[:5]"
   ]
  },
  {
   "cell_type": "code",
   "execution_count": 55,
   "metadata": {},
   "outputs": [
    {
     "data": {
      "text/plain": [
       "'ABC'"
      ]
     },
     "execution_count": 55,
     "metadata": {},
     "output_type": "execute_result"
    }
   ],
   "source": [
    "\"abc\".upper()"
   ]
  },
  {
   "cell_type": "code",
   "execution_count": 171,
   "metadata": {},
   "outputs": [
    {
     "name": "stdout",
     "output_type": "stream",
     "text": [
      "Statistics from ../artifacts/dev-2021-06-27-ic-pc100-features\n"
     ]
    }
   ],
   "source": [
    "def plot_table(table, headers, fmt=\"html\"):\n",
    "    \n",
    "\n",
    "    table_str = tabulate(table, headers=headers, tablefmt=fmt, colalign=[\"center\"]*len(headers))\n",
    "\n",
    "    if fmt==\"html\":\n",
    "        return HTML(table_str)\n",
    "    else:\n",
    "        return print(table_str)\n",
    "    \n",
    "def alias(feature_set_name):\n",
    "    slugs = feature_set_name.split(\"_\") \n",
    "    if \"not\" in feature_set_name:\n",
    "        return f\"{slugs[1]}_{slugs[2]}\".upper()\n",
    "    else:\n",
    "        return slugs[1].upper()\n",
    "\n",
    "def load_data(artifact_dir, models, model_type=\"logistic\", assert_same_random_seed_commit=True, sorting_factor=-1):\n",
    "    headers =  [\n",
    "        \"rfMRI Partial Correlation 100 Features Related to\", \"auroc:mean±std\", \"min\", \"max\"\n",
    "    ]\n",
    "    \n",
    "    print(f\"Statistics from {artifact_dir}\")\n",
    "\n",
    "    \n",
    "    commit = None\n",
    "    random_seed = None\n",
    "    rows = []\n",
    "    n = None\n",
    "    for feature_set in models:\n",
    "\n",
    "        artifact_path = f\"{artifact_dir}/{model_type}--{feature_set}\"\n",
    "        \n",
    "        if not Path(f\"{artifact_path}/statistics.json\").is_file():\n",
    "            continue\n",
    "            \n",
    "        with open(f\"{artifact_path}/statistics.json\", \"r\") as fh:\n",
    "            statistics = json.load(fh)\n",
    "            aucs = np.array(statistics[\"aucs\"]) \n",
    "            \n",
    "            statistics_cols = [\n",
    "                f\"{np.mean(aucs):4.2f}±{np.std(aucs):05.2f}\",\n",
    "                f\"{np.min(aucs):4.2f}\",\n",
    "                f\"{np.max(aucs):4.2f}\",\n",
    "            ]\n",
    "            rows.append(dict(\n",
    "                name=feature_set,\n",
    "                auc_mean=np.mean(aucs),\n",
    "                auc_std=np.std(aucs),\n",
    "                auc_max=np.max(aucs),\n",
    "                auc_min=np.min(aucs),\n",
    "                n=aucs.shape[0],\n",
    "                aucs=aucs.tolist()\n",
    "            ))\n",
    "        \n",
    "            \n",
    "        if assert_same_random_seed_commit:        \n",
    "            with open(f\"{artifact_path}/config.json\", \"r\") as fh:\n",
    "                model_config = json.load(fh)\n",
    "                if commit is None:\n",
    "                    commit = model_config[\"commit\"]\n",
    "                    random_seed = model_config[\"random_seed_value\"]\n",
    "                    n=aucs.shape[0]\n",
    "                else:\n",
    "                    assert commit == model_config[\"commit\"]\n",
    "                    assert random_seed == model_config[\"random_seed_value\"]\n",
    "                    assert n == aucs.shape[0]\n",
    "    \n",
    "    sorted_indices = np.argsort(list(map(lambda r: sorting_factor * r[\"auc_mean\"], rows)))\n",
    "    \n",
    "    sorted_rows = []\n",
    "    sorted_rows_for_table = []\n",
    "    \n",
    "    for ix in sorted_indices:\n",
    "        row = rows[ix]\n",
    "        cols = (\n",
    "            alias(row['name']),\n",
    "            f\"{row['auc_mean']:4.4f}±{row['auc_std']:05.4f}\",\n",
    "            f\"{row['auc_min']:4.4f}\",\n",
    "            f\"{row['auc_max']:4.4f}\",\n",
    "        )\n",
    "        sorted_rows_for_table.append(cols)\n",
    "        sorted_rows.append(row)\n",
    "        \n",
    "    return sorted_rows_for_table, headers, sorted_rows\n",
    "\n",
    "def ano():\n",
    "    rows, headers, _ = load_data(\"../artifacts/dev-2021-06-27-ic-pc100-features\", ic_models)\n",
    "\n",
    "    plot_table(rows, headers)\n",
    "ano()"
   ]
  },
  {
   "cell_type": "markdown",
   "metadata": {},
   "source": [
    "# Plot Official Artifacts"
   ]
  },
  {
   "cell_type": "markdown",
   "metadata": {},
   "source": [
    "Running `../artifacts/2021-06-27-ic-ranking-based-on-partial-correlation-100-features`"
   ]
  },
  {
   "cell_type": "code",
   "execution_count": 172,
   "metadata": {},
   "outputs": [
    {
     "name": "stdout",
     "output_type": "stream",
     "text": [
      "Statistics from ../artifacts/2021-06-27-ic-ranking-based-on-partial-correlation-100-features\n"
     ]
    },
    {
     "data": {
      "text/html": [
       "<table>\n",
       "<thead>\n",
       "<tr><th style=\"text-align: center;\"> rfMRI Partial Correlation 100 Features Related to </th><th style=\"text-align: center;\"> auroc:mean±std </th><th style=\"text-align: center;\"> min  </th><th style=\"text-align: center;\"> max  </th></tr>\n",
       "</thead>\n",
       "<tbody>\n",
       "<tr><td style=\"text-align: center;\">                       IC33                        </td><td style=\"text-align: center;\"> 0.6504±0.0116  </td><td style=\"text-align: center;\">0.6344</td><td style=\"text-align: center;\">0.665 </td></tr>\n",
       "<tr><td style=\"text-align: center;\">                        IC2                        </td><td style=\"text-align: center;\"> 0.6446±0.0138  </td><td style=\"text-align: center;\">0.6178</td><td style=\"text-align: center;\">0.6637</td></tr>\n",
       "<tr><td style=\"text-align: center;\">                       IC26                        </td><td style=\"text-align: center;\"> 0.6438±0.0194  </td><td style=\"text-align: center;\">0.6096</td><td style=\"text-align: center;\">0.6699</td></tr>\n",
       "<tr><td style=\"text-align: center;\">                       IC12                        </td><td style=\"text-align: center;\"> 0.6327±0.0104  </td><td style=\"text-align: center;\">0.6141</td><td style=\"text-align: center;\">0.6584</td></tr>\n",
       "<tr><td style=\"text-align: center;\">                       IC28                        </td><td style=\"text-align: center;\"> 0.6318±0.0125  </td><td style=\"text-align: center;\">0.6072</td><td style=\"text-align: center;\">0.6533</td></tr>\n",
       "<tr><td style=\"text-align: center;\">                        IC5                        </td><td style=\"text-align: center;\"> 0.6200±0.0134  </td><td style=\"text-align: center;\">0.5968</td><td style=\"text-align: center;\">0.6455</td></tr>\n",
       "<tr><td style=\"text-align: center;\">                       IC18                        </td><td style=\"text-align: center;\"> 0.6144±0.0110  </td><td style=\"text-align: center;\">0.5952</td><td style=\"text-align: center;\">0.6374</td></tr>\n",
       "<tr><td style=\"text-align: center;\">                       IC11                        </td><td style=\"text-align: center;\"> 0.6137±0.0184  </td><td style=\"text-align: center;\">0.5837</td><td style=\"text-align: center;\">0.632 </td></tr>\n",
       "<tr><td style=\"text-align: center;\">                        IC9                        </td><td style=\"text-align: center;\"> 0.6037±0.0172  </td><td style=\"text-align: center;\">0.576 </td><td style=\"text-align: center;\">0.6354</td></tr>\n",
       "<tr><td style=\"text-align: center;\">                       IC29                        </td><td style=\"text-align: center;\"> 0.6025±0.0097  </td><td style=\"text-align: center;\">0.5858</td><td style=\"text-align: center;\">0.6173</td></tr>\n",
       "</tbody>\n",
       "</table>"
      ],
      "text/plain": [
       "<IPython.core.display.HTML object>"
      ]
     },
     "execution_count": 172,
     "metadata": {},
     "output_type": "execute_result"
    }
   ],
   "source": [
    "artifact_dir = \"../artifacts/2021-06-27-ic-ranking-based-on-partial-correlation-100-features\"\n",
    "sorted_rows_for_table, headers, sorted_rows = load_data(\n",
    "    artifact_dir,\n",
    "    ic_models,\n",
    "    assert_same_random_seed_commit=True\n",
    ")\n",
    "\n",
    "plot_table(sorted_rows_for_table[:10], headers)"
   ]
  },
  {
   "cell_type": "code",
   "execution_count": 176,
   "metadata": {},
   "outputs": [
    {
     "ename": "TypeError",
     "evalue": "save_ic_statistics() missing 1 required positional argument: 'rows'",
     "output_type": "error",
     "traceback": [
      "\u001b[0;31m---------------------------------------------------------------------------\u001b[0m",
      "\u001b[0;31mTypeError\u001b[0m                                 Traceback (most recent call last)",
      "\u001b[0;32m<ipython-input-176-c2859abaacbf>\u001b[0m in \u001b[0;36m<module>\u001b[0;34m\u001b[0m\n\u001b[1;32m      5\u001b[0m             \u001b[0mstatistics\u001b[0m\u001b[0;34m=\u001b[0m\u001b[0mrows\u001b[0m\u001b[0;34m\u001b[0m\u001b[0;34m\u001b[0m\u001b[0m\n\u001b[1;32m      6\u001b[0m         ), fh, indent=4, sort_keys=True)\n\u001b[0;32m----> 7\u001b[0;31m \u001b[0msave_ic_statistics\u001b[0m\u001b[0;34m(\u001b[0m\u001b[0;34m)\u001b[0m\u001b[0;34m\u001b[0m\u001b[0;34m\u001b[0m\u001b[0m\n\u001b[0m",
      "\u001b[0;31mTypeError\u001b[0m: save_ic_statistics() missing 1 required positional argument: 'rows'"
     ]
    }
   ],
   "source": [
    "def save_ic_statistics(rows):\n",
    "    with open (\"../statistics/ic_performace_statistics.json\", \"w\") as fh:\n",
    "        json.dump(dict(\n",
    "            artifact_dir=artifact_dir,\n",
    "            statistics=rows\n",
    "        ), fh, indent=4, sort_keys=True)\n",
    "# save_ic_statistics()"
   ]
  },
  {
   "cell_type": "markdown",
   "metadata": {},
   "source": [
    "# Virtual Lesion"
   ]
  },
  {
   "cell_type": "code",
   "execution_count": 174,
   "metadata": {},
   "outputs": [],
   "source": [
    "_ = pd.read_csv(\"./resources/rfmri_not_ics_partial_correlation_100.txt\", header=None, names=[\"model\"], sep=\";\")\n",
    "not_ic_models = _.model.values.tolist()"
   ]
  },
  {
   "cell_type": "code",
   "execution_count": 178,
   "metadata": {},
   "outputs": [
    {
     "name": "stdout",
     "output_type": "stream",
     "text": [
      "Statistics from ../artifacts/2021-07-24-ic-ranking-by-virtual-lesion\n"
     ]
    },
    {
     "data": {
      "text/html": [
       "<table>\n",
       "<thead>\n",
       "<tr><th style=\"text-align: center;\"> rfMRI Partial Correlation 100 Features Related to </th><th style=\"text-align: center;\"> auroc:mean±std </th><th style=\"text-align: center;\"> min  </th><th style=\"text-align: center;\"> max  </th></tr>\n",
       "</thead>\n",
       "<tbody>\n",
       "<tr><td style=\"text-align: center;\">                     NOT_IC26                      </td><td style=\"text-align: center;\"> 0.7112±0.0130  </td><td style=\"text-align: center;\">0.6918</td><td style=\"text-align: center;\">0.7331</td></tr>\n",
       "<tr><td style=\"text-align: center;\">                     NOT_IC12                      </td><td style=\"text-align: center;\"> 0.7117±0.0130  </td><td style=\"text-align: center;\">0.6927</td><td style=\"text-align: center;\">0.7391</td></tr>\n",
       "<tr><td style=\"text-align: center;\">                      NOT_IC2                      </td><td style=\"text-align: center;\"> 0.7142±0.0125  </td><td style=\"text-align: center;\">0.6956</td><td style=\"text-align: center;\">0.734 </td></tr>\n",
       "<tr><td style=\"text-align: center;\">                     NOT_IC21                      </td><td style=\"text-align: center;\"> 0.7155±0.0131  </td><td style=\"text-align: center;\">0.6874</td><td style=\"text-align: center;\">0.735 </td></tr>\n",
       "<tr><td style=\"text-align: center;\">                     NOT_IC20                      </td><td style=\"text-align: center;\"> 0.7155±0.0148  </td><td style=\"text-align: center;\">0.6832</td><td style=\"text-align: center;\">0.7342</td></tr>\n",
       "<tr><td style=\"text-align: center;\">                     NOT_IC18                      </td><td style=\"text-align: center;\"> 0.7162±0.0136  </td><td style=\"text-align: center;\">0.6881</td><td style=\"text-align: center;\">0.7367</td></tr>\n",
       "<tr><td style=\"text-align: center;\">                     NOT_IC33                      </td><td style=\"text-align: center;\"> 0.7162±0.0177  </td><td style=\"text-align: center;\">0.6763</td><td style=\"text-align: center;\">0.7387</td></tr>\n",
       "<tr><td style=\"text-align: center;\">                     NOT_IC31                      </td><td style=\"text-align: center;\"> 0.7167±0.0141  </td><td style=\"text-align: center;\">0.6817</td><td style=\"text-align: center;\">0.7347</td></tr>\n",
       "<tr><td style=\"text-align: center;\">                      NOT_IC5                      </td><td style=\"text-align: center;\"> 0.7169±0.0093  </td><td style=\"text-align: center;\">0.6999</td><td style=\"text-align: center;\">0.7312</td></tr>\n",
       "<tr><td style=\"text-align: center;\">                     NOT_IC34                      </td><td style=\"text-align: center;\"> 0.7178±0.0160  </td><td style=\"text-align: center;\">0.6816</td><td style=\"text-align: center;\">0.7386</td></tr>\n",
       "</tbody>\n",
       "</table>"
      ],
      "text/plain": [
       "<IPython.core.display.HTML object>"
      ]
     },
     "execution_count": 178,
     "metadata": {},
     "output_type": "execute_result"
    }
   ],
   "source": [
    "artifact_dir = \"../artifacts/2021-07-24-ic-ranking-by-virtual-lesion\"\n",
    "sorted_rows_for_table, headers, sorted_rows = load_data(\n",
    "    artifact_dir,\n",
    "    not_ic_models,\n",
    "    assert_same_random_seed_commit=True,\n",
    "    sorting_factor=1\n",
    ")\n",
    "\n",
    "\n",
    "plot_table(sorted_rows_for_table[:10], headers)"
   ]
  },
  {
   "cell_type": "code",
   "execution_count": null,
   "metadata": {},
   "outputs": [],
   "source": []
  },
  {
   "cell_type": "code",
   "execution_count": 167,
   "metadata": {},
   "outputs": [],
   "source": [
    "# Important Remark: \n",
    "# - please make sure that the column header is labelled correctly\n",
    "\n",
    "# artifact_dir = \"../artifacts/2021-07-27-ic-ranking-by-auprg-permute-retrain\"\n",
    "# sorted_rows_for_table, headers, sorted_rows = load_data(\n",
    "#     artifact_dir,\n",
    "#     not_ic_models,\n",
    "#     assert_same_random_seed_commit=True,\n",
    "#     sorting_factor=1\n",
    "# )\n",
    "\n",
    "# plot_table(sorted_rows_for_table[:10], headers)"
   ]
  },
  {
   "cell_type": "code",
   "execution_count": 168,
   "metadata": {},
   "outputs": [],
   "source": [
    "# Important Remark: \n",
    "# - please make sure that the column header is labelled correctly\n",
    "\n",
    "\n",
    "# artifact_dir = \"../artifacts/2021-07-29-ic-ranking-by-auprg\"\n",
    "# sorted_rows_for_table, headers, sorted_rows = load_data(\n",
    "#     artifact_dir,\n",
    "#     not_ic_models,\n",
    "#     assert_same_random_seed_commit=True,\n",
    "#     sorting_factor=1\n",
    "# )\n",
    "\n",
    "# plot_table(sorted_rows_for_table[:10], headers)"
   ]
  },
  {
   "cell_type": "markdown",
   "metadata": {},
   "source": [
    "## Models with AUROC and After Removing Withdrawing Participants"
   ]
  },
  {
   "cell_type": "code",
   "execution_count": 180,
   "metadata": {},
   "outputs": [
    {
     "name": "stdout",
     "output_type": "stream",
     "text": [
      "Statistics from ../artifacts/2021-09-05-participants-withdraw-and-auroc\n"
     ]
    },
    {
     "data": {
      "text/html": [
       "<table>\n",
       "<thead>\n",
       "<tr><th style=\"text-align: center;\"> rfMRI Partial Correlation 100 Features Related to </th><th style=\"text-align: center;\"> auroc:mean±std </th><th style=\"text-align: center;\"> min  </th><th style=\"text-align: center;\"> max  </th></tr>\n",
       "</thead>\n",
       "<tbody>\n",
       "<tr><td style=\"text-align: center;\">                     NOT_IC18                      </td><td style=\"text-align: center;\"> 0.7089±0.0135  </td><td style=\"text-align: center;\">0.6899</td><td style=\"text-align: center;\">0.7361</td></tr>\n",
       "<tr><td style=\"text-align: center;\">                     NOT_IC12                      </td><td style=\"text-align: center;\"> 0.7093±0.0092  </td><td style=\"text-align: center;\">0.6915</td><td style=\"text-align: center;\">0.7201</td></tr>\n",
       "<tr><td style=\"text-align: center;\">                     NOT_IC26                      </td><td style=\"text-align: center;\"> 0.7102±0.0196  </td><td style=\"text-align: center;\">0.6712</td><td style=\"text-align: center;\">0.7371</td></tr>\n",
       "<tr><td style=\"text-align: center;\">                     NOT_IC20                      </td><td style=\"text-align: center;\"> 0.7124±0.0157  </td><td style=\"text-align: center;\">0.6873</td><td style=\"text-align: center;\">0.741 </td></tr>\n",
       "<tr><td style=\"text-align: center;\">                      NOT_IC9                      </td><td style=\"text-align: center;\"> 0.7134±0.0119  </td><td style=\"text-align: center;\">0.6879</td><td style=\"text-align: center;\">0.7274</td></tr>\n",
       "<tr><td style=\"text-align: center;\">                     NOT_IC33                      </td><td style=\"text-align: center;\"> 0.7136±0.0131  </td><td style=\"text-align: center;\">0.6905</td><td style=\"text-align: center;\">0.7406</td></tr>\n",
       "<tr><td style=\"text-align: center;\">                      NOT_IC2                      </td><td style=\"text-align: center;\"> 0.7140±0.0132  </td><td style=\"text-align: center;\">0.6892</td><td style=\"text-align: center;\">0.7333</td></tr>\n",
       "<tr><td style=\"text-align: center;\">                     NOT_IC32                      </td><td style=\"text-align: center;\"> 0.7140±0.0159  </td><td style=\"text-align: center;\">0.6835</td><td style=\"text-align: center;\">0.7354</td></tr>\n",
       "<tr><td style=\"text-align: center;\">                     NOT_IC11                      </td><td style=\"text-align: center;\"> 0.7151±0.0146  </td><td style=\"text-align: center;\">0.6901</td><td style=\"text-align: center;\">0.7367</td></tr>\n",
       "<tr><td style=\"text-align: center;\">                     NOT_IC39                      </td><td style=\"text-align: center;\"> 0.7156±0.0120  </td><td style=\"text-align: center;\">0.6962</td><td style=\"text-align: center;\">0.7306</td></tr>\n",
       "</tbody>\n",
       "</table>"
      ],
      "text/plain": [
       "<IPython.core.display.HTML object>"
      ]
     },
     "execution_count": 180,
     "metadata": {},
     "output_type": "execute_result"
    }
   ],
   "source": [
    "artifact_dir = \"../artifacts/2021-09-05-participants-withdraw-and-auroc\"\n",
    "sorted_rows_for_table, headers, sorted_rows = load_data(\n",
    "    artifact_dir,\n",
    "    not_ic_models,\n",
    "    assert_same_random_seed_commit=True,\n",
    "    sorting_factor=1\n",
    ")\n",
    "\n",
    "save_ic_statistics(sorted_rows)\n",
    "\n",
    "plot_table(sorted_rows_for_table[:10], headers)"
   ]
  },
  {
   "cell_type": "code",
   "execution_count": null,
   "metadata": {},
   "outputs": [],
   "source": []
  }
 ],
 "metadata": {
  "kernelspec": {
   "display_name": "Python 3",
   "language": "python",
   "name": "python3"
  },
  "language_info": {
   "codemirror_mode": {
    "name": "ipython",
    "version": 3
   },
   "file_extension": ".py",
   "mimetype": "text/x-python",
   "name": "python",
   "nbconvert_exporter": "python",
   "pygments_lexer": "ipython3",
   "version": "3.8.1"
  },
  "toc": {
   "base_numbering": 1,
   "nav_menu": {},
   "number_sections": true,
   "sideBar": true,
   "skip_h1_title": false,
   "title_cell": "Table of Contents",
   "title_sidebar": "Contents",
   "toc_cell": false,
   "toc_position": {},
   "toc_section_display": true,
   "toc_window_display": false
  }
 },
 "nbformat": 4,
 "nbformat_minor": 4
}
