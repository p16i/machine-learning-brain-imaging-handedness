{
 "cells": [
  {
   "cell_type": "code",
   "execution_count": 29,
   "metadata": {},
   "outputs": [],
   "source": [
    "import numpy as np\n",
    "\n",
    "import pandas as pd\n",
    "\n",
    "from tabulate import tabulate\n",
    "\n",
    "from pathlib import Path\n",
    "\n",
    "from mlhand import config\n",
    "\n",
    "import json\n",
    "\n",
    "from IPython.display import display, Markdown, Latex, HTML"
   ]
  },
  {
   "cell_type": "markdown",
   "metadata": {},
   "source": [
    "# Statistics Loading Function"
   ]
  },
  {
   "cell_type": "code",
   "execution_count": 3,
   "metadata": {},
   "outputs": [],
   "source": [
    "_ = pd.read_csv(\"../resources/unimodality.txt\", header=None, names=[\"modality\"])\n",
    "unimodalities = _.modality.values.tolist()"
   ]
  },
  {
   "cell_type": "code",
   "execution_count": 4,
   "metadata": {},
   "outputs": [],
   "source": [
    "def alias(col_name):\n",
    "    if \"component_amplitudes\" in col_name:\n",
    "        return col_name.replace(\"component_amplitudes\", \"CA\")\n",
    "    elif \"full_correlation\" in col_name:\n",
    "        return col_name.replace(\"full_correlation\", \"FC\")\n",
    "    elif \"partial_correlation\" in col_name:\n",
    "        return col_name.replace(\"partial_correlation\", \"PC\")\n",
    "    elif \"controlled\" in col_name:\n",
    "        return \"controlled\"\n",
    "    else:\n",
    "        return col_name"
   ]
  },
  {
   "cell_type": "code",
   "execution_count": 5,
   "metadata": {},
   "outputs": [],
   "source": [
    "_ = pd.read_csv(\"../resources/multimodality.txt\", header=None, names=[\"modality\"], sep=\";\")\n",
    "multimodalities = _.modality.values.tolist()"
   ]
  },
  {
   "cell_type": "code",
   "execution_count": 6,
   "metadata": {},
   "outputs": [
    {
     "data": {
      "text/plain": [
       "['structure,diffusion,rfmri_component_amplitudes_100',\n",
       " 'structure,diffusion,rfmri_full_correlation_100',\n",
       " 'structure,diffusion,rfmri_partial_correlation_100',\n",
       " 'structure,diffusion,rfmri_component_amplitudes_100,rfmri_full_correlation_100',\n",
       " 'structure,diffusion,rfmri_component_amplitudes_100,rfmri_partial_correlation_100',\n",
       " 'controlled_variables,structure,diffusion,rfmri_component_amplitudes_100,rfmri_partial_correlation_100']"
      ]
     },
     "execution_count": 6,
     "metadata": {},
     "output_type": "execute_result"
    }
   ],
   "source": [
    "multimodalities"
   ]
  },
  {
   "cell_type": "code",
   "execution_count": 35,
   "metadata": {},
   "outputs": [
    {
     "name": "stdout",
     "output_type": "stream",
     "text": [
      "Statistics from ../artifacts/dev-all-unimodality-quick-run\n"
     ]
    }
   ],
   "source": [
    "def load_data(artifact_dir, feature_sets, model_type=\"logistic\", assert_same_random_seed_commit=True):\n",
    "    headers = list(map(lambda c: alias(c), unimodalities)) \\\n",
    "        + [ \"Total Features\" ] + [\"auroc:mean±std\", \"min\", \"max\"]\n",
    "    \n",
    "    print(f\"Statistics from {artifact_dir}\")\n",
    "    \n",
    "    rows = []\n",
    "    \n",
    "    commit = None\n",
    "    random_seed = None\n",
    "    for feature_set in feature_sets:\n",
    "        # this line is for multimodal only\n",
    "        feature_set = feature_set.replace(\",\", \"-\")\n",
    "    \n",
    "        \n",
    "        modality_cols = list(map(lambda c: \"✓\" if c in feature_set else \"\", unimodalities))\n",
    "        total_features = np.sum(list(map(lambda c: config.NUM_FEATURES[c], feature_set.split(\"-\"))))\n",
    "\n",
    "        artifact_path = f\"{artifact_dir}/{model_type}--{feature_set}\"\n",
    "        \n",
    "        if not Path(f\"{artifact_path}/statistics.json\").is_file():\n",
    "            continue\n",
    "        with open(f\"{artifact_path}/statistics.json\", \"r\") as fh:\n",
    "\n",
    "            statistics = json.load(fh)\n",
    "            aucs = np.array(statistics[\"aucs\"])\n",
    "            statistics_cols = [\n",
    "                f\"{np.mean(aucs):4.4f}±{np.std(aucs):05.4f}\",\n",
    "                f\"{np.min(aucs):4.4f}\",\n",
    "                f\"{np.max(aucs):4.4f}\",\n",
    "            ]\n",
    "        \n",
    "        rows.append([*modality_cols, total_features, *statistics_cols])\n",
    "            \n",
    "        if assert_same_random_seed_commit:        \n",
    "            with open(f\"{artifact_path}/config.json\", \"r\") as fh:\n",
    "                model_config = json.load(fh)\n",
    "                if commit is None:\n",
    "                    commit = model_config[\"commit\"]\n",
    "                    random_seed = model_config[\"random_seed_value\"]\n",
    "                else:\n",
    "                    assert commit == model_config[\"commit\"]\n",
    "                    assert random_seed == model_config[\"random_seed_value\"]\n",
    "                    \n",
    "    return rows, headers\n",
    "\n",
    "_ = load_data(\"../artifacts/dev-all-unimodality-quick-run\", unimodalities)"
   ]
  },
  {
   "cell_type": "markdown",
   "metadata": {},
   "source": [
    "# Plot Tables"
   ]
  },
  {
   "cell_type": "code",
   "execution_count": 36,
   "metadata": {},
   "outputs": [
    {
     "data": {
      "text/html": [
       "<table>\n",
       "<thead>\n",
       "<tr><th style=\"text-align: center;\"> Planet </th><th style=\"text-align: center;\"> R (km) </th><th style=\"text-align: center;\"> mass (x 10^29 kg) </th></tr>\n",
       "</thead>\n",
       "<tbody>\n",
       "<tr><td style=\"text-align: center;\">  Sun   </td><td style=\"text-align: center;\"> 696000 </td><td style=\"text-align: center;\">    1.9891e+09     </td></tr>\n",
       "<tr><td style=\"text-align: center;\"> Earth  </td><td style=\"text-align: center;\">  6371  </td><td style=\"text-align: center;\">      5973.6       </td></tr>\n",
       "<tr><td style=\"text-align: center;\">  Moon  </td><td style=\"text-align: center;\">  1737  </td><td style=\"text-align: center;\">       73.5        </td></tr>\n",
       "<tr><td style=\"text-align: center;\">  Mars  </td><td style=\"text-align: center;\">  3390  </td><td style=\"text-align: center;\">      641.85       </td></tr>\n",
       "</tbody>\n",
       "</table>"
      ],
      "text/plain": [
       "<IPython.core.display.HTML object>"
      ]
     },
     "execution_count": 36,
     "metadata": {},
     "output_type": "execute_result"
    }
   ],
   "source": [
    "def plot_table(table, headers, fmt=\"html\"):\n",
    "    \n",
    "\n",
    "    table_str = tabulate(table, headers=headers, tablefmt=fmt, colalign=[\"center\"]*len(headers))\n",
    "\n",
    "    if fmt==\"html\":\n",
    "        return HTML(table_str)\n",
    "    else:\n",
    "        return print(table_str)\n",
    "    \n",
    "dummy_data = [\n",
    "    [\"Sun\", 696000, 1989100000],\n",
    "    [\"Earth\", 6371, 5973.6],\n",
    "    [\"Moon\", 1737, 73.5],\n",
    "    [\"Mars\", 3390, 641.85]\n",
    "]\n",
    "\n",
    "dummy_headers = [\n",
    "    \"Planet\",\n",
    "    \"R (km)\",\n",
    "    \"mass (x 10^29 kg)\"\n",
    "]\n",
    "\n",
    "plot_table(dummy_data, dummy_headers, fmt=\"html\")"
   ]
  },
  {
   "cell_type": "code",
   "execution_count": 37,
   "metadata": {
    "scrolled": false
   },
   "outputs": [
    {
     "name": "stdout",
     "output_type": "stream",
     "text": [
      "Statistics from ../artifacts/tmp\n"
     ]
    },
    {
     "data": {
      "text/html": [
       "<table>\n",
       "<thead>\n",
       "<tr><th style=\"text-align: center;\"> controlled </th><th style=\"text-align: center;\"> structure </th><th style=\"text-align: center;\"> diffusion </th><th style=\"text-align: center;\"> rfmri_CA_25 </th><th style=\"text-align: center;\"> rfmri_FC_25 </th><th style=\"text-align: center;\"> rfmri_PC_25 </th><th style=\"text-align: center;\"> rfmri_CA_100 </th><th style=\"text-align: center;\"> rfmri_FC_100 </th><th style=\"text-align: center;\"> rfmri_PC_100 </th><th style=\"text-align: center;\"> Total Features </th><th style=\"text-align: center;\"> auroc:mean±std </th><th style=\"text-align: center;\"> min  </th><th style=\"text-align: center;\"> max  </th></tr>\n",
       "</thead>\n",
       "<tbody>\n",
       "<tr><td style=\"text-align: center;\">     ✓      </td><td style=\"text-align: center;\">           </td><td style=\"text-align: center;\">           </td><td style=\"text-align: center;\">             </td><td style=\"text-align: center;\">             </td><td style=\"text-align: center;\">             </td><td style=\"text-align: center;\">              </td><td style=\"text-align: center;\">              </td><td style=\"text-align: center;\">              </td><td style=\"text-align: center;\">       22       </td><td style=\"text-align: center;\"> 0.5502±0.0798  </td><td style=\"text-align: center;\">0.3895</td><td style=\"text-align: center;\">0.6867</td></tr>\n",
       "<tr><td style=\"text-align: center;\">            </td><td style=\"text-align: center;\">     ✓     </td><td style=\"text-align: center;\">           </td><td style=\"text-align: center;\">             </td><td style=\"text-align: center;\">             </td><td style=\"text-align: center;\">             </td><td style=\"text-align: center;\">              </td><td style=\"text-align: center;\">              </td><td style=\"text-align: center;\">              </td><td style=\"text-align: center;\">      198       </td><td style=\"text-align: center;\"> 0.4552±0.0903  </td><td style=\"text-align: center;\">0.2978</td><td style=\"text-align: center;\">0.6105</td></tr>\n",
       "<tr><td style=\"text-align: center;\">            </td><td style=\"text-align: center;\">           </td><td style=\"text-align: center;\">     ✓     </td><td style=\"text-align: center;\">             </td><td style=\"text-align: center;\">             </td><td style=\"text-align: center;\">             </td><td style=\"text-align: center;\">              </td><td style=\"text-align: center;\">              </td><td style=\"text-align: center;\">              </td><td style=\"text-align: center;\">      432       </td><td style=\"text-align: center;\"> 0.4882±0.0936  </td><td style=\"text-align: center;\">0.3553</td><td style=\"text-align: center;\">0.6386</td></tr>\n",
       "<tr><td style=\"text-align: center;\">            </td><td style=\"text-align: center;\">           </td><td style=\"text-align: center;\">           </td><td style=\"text-align: center;\">      ✓      </td><td style=\"text-align: center;\">             </td><td style=\"text-align: center;\">             </td><td style=\"text-align: center;\">              </td><td style=\"text-align: center;\">              </td><td style=\"text-align: center;\">              </td><td style=\"text-align: center;\">       21       </td><td style=\"text-align: center;\"> 0.5382±0.1010  </td><td style=\"text-align: center;\">0.359 </td><td style=\"text-align: center;\">0.7389</td></tr>\n",
       "<tr><td style=\"text-align: center;\">            </td><td style=\"text-align: center;\">           </td><td style=\"text-align: center;\">           </td><td style=\"text-align: center;\">             </td><td style=\"text-align: center;\">      ✓      </td><td style=\"text-align: center;\">             </td><td style=\"text-align: center;\">              </td><td style=\"text-align: center;\">              </td><td style=\"text-align: center;\">              </td><td style=\"text-align: center;\">      210       </td><td style=\"text-align: center;\"> 0.6045±0.0837  </td><td style=\"text-align: center;\">0.4589</td><td style=\"text-align: center;\">0.7375</td></tr>\n",
       "<tr><td style=\"text-align: center;\">            </td><td style=\"text-align: center;\">           </td><td style=\"text-align: center;\">           </td><td style=\"text-align: center;\">             </td><td style=\"text-align: center;\">             </td><td style=\"text-align: center;\">      ✓      </td><td style=\"text-align: center;\">              </td><td style=\"text-align: center;\">              </td><td style=\"text-align: center;\">              </td><td style=\"text-align: center;\">      210       </td><td style=\"text-align: center;\"> 0.6230±0.0635  </td><td style=\"text-align: center;\">0.5177</td><td style=\"text-align: center;\">0.7179</td></tr>\n",
       "<tr><td style=\"text-align: center;\">            </td><td style=\"text-align: center;\">           </td><td style=\"text-align: center;\">           </td><td style=\"text-align: center;\">             </td><td style=\"text-align: center;\">             </td><td style=\"text-align: center;\">             </td><td style=\"text-align: center;\">      ✓       </td><td style=\"text-align: center;\">              </td><td style=\"text-align: center;\">              </td><td style=\"text-align: center;\">       55       </td><td style=\"text-align: center;\"> 0.5537±0.1105  </td><td style=\"text-align: center;\">0.3602</td><td style=\"text-align: center;\">0.7144</td></tr>\n",
       "<tr><td style=\"text-align: center;\">            </td><td style=\"text-align: center;\">           </td><td style=\"text-align: center;\">           </td><td style=\"text-align: center;\">             </td><td style=\"text-align: center;\">             </td><td style=\"text-align: center;\">             </td><td style=\"text-align: center;\">              </td><td style=\"text-align: center;\">      ✓       </td><td style=\"text-align: center;\">              </td><td style=\"text-align: center;\">      1485      </td><td style=\"text-align: center;\"> 0.6311±0.0901  </td><td style=\"text-align: center;\">0.4505</td><td style=\"text-align: center;\">0.7424</td></tr>\n",
       "<tr><td style=\"text-align: center;\">            </td><td style=\"text-align: center;\">           </td><td style=\"text-align: center;\">           </td><td style=\"text-align: center;\">             </td><td style=\"text-align: center;\">             </td><td style=\"text-align: center;\">             </td><td style=\"text-align: center;\">              </td><td style=\"text-align: center;\">              </td><td style=\"text-align: center;\">      ✓       </td><td style=\"text-align: center;\">      1485      </td><td style=\"text-align: center;\"> 0.6008±0.1486  </td><td style=\"text-align: center;\">0.3541</td><td style=\"text-align: center;\">0.8217</td></tr>\n",
       "</tbody>\n",
       "</table>"
      ],
      "text/plain": [
       "<IPython.core.display.HTML object>"
      ]
     },
     "execution_count": 37,
     "metadata": {},
     "output_type": "execute_result"
    }
   ],
   "source": [
    "dev_data, dev_headers = load_data(\n",
    "    \"../artifacts/tmp\",\n",
    "    unimodalities + multimodalities,\n",
    "    assert_same_random_seed_commit=False\n",
    ")\n",
    "\n",
    "plot_table(dev_data,  dev_headers)"
   ]
  },
  {
   "cell_type": "markdown",
   "metadata": {},
   "source": [
    "# Plot Official Artifacts"
   ]
  },
  {
   "cell_type": "markdown",
   "metadata": {},
   "source": [
    "2021-06-26-paper-submission-logistic"
   ]
  },
  {
   "cell_type": "code",
   "execution_count": 38,
   "metadata": {},
   "outputs": [
    {
     "name": "stdout",
     "output_type": "stream",
     "text": [
      "Statistics from ../artifacts/2021-06-26-paper-submission-logistic\n"
     ]
    },
    {
     "data": {
      "text/html": [
       "<table>\n",
       "<thead>\n",
       "<tr><th style=\"text-align: center;\"> controlled </th><th style=\"text-align: center;\"> structure </th><th style=\"text-align: center;\"> diffusion </th><th style=\"text-align: center;\"> rfmri_CA_25 </th><th style=\"text-align: center;\"> rfmri_FC_25 </th><th style=\"text-align: center;\"> rfmri_PC_25 </th><th style=\"text-align: center;\"> rfmri_CA_100 </th><th style=\"text-align: center;\"> rfmri_FC_100 </th><th style=\"text-align: center;\"> rfmri_PC_100 </th><th style=\"text-align: center;\"> Total Features </th><th style=\"text-align: center;\"> auroc:mean±std </th><th style=\"text-align: center;\"> min  </th><th style=\"text-align: center;\"> max  </th></tr>\n",
       "</thead>\n",
       "<tbody>\n",
       "<tr><td style=\"text-align: center;\">     ✓      </td><td style=\"text-align: center;\">           </td><td style=\"text-align: center;\">           </td><td style=\"text-align: center;\">             </td><td style=\"text-align: center;\">             </td><td style=\"text-align: center;\">             </td><td style=\"text-align: center;\">              </td><td style=\"text-align: center;\">              </td><td style=\"text-align: center;\">              </td><td style=\"text-align: center;\">       22       </td><td style=\"text-align: center;\"> 0.5529±0.0137  </td><td style=\"text-align: center;\">0.5203</td><td style=\"text-align: center;\">0.5709</td></tr>\n",
       "<tr><td style=\"text-align: center;\">            </td><td style=\"text-align: center;\">     ✓     </td><td style=\"text-align: center;\">           </td><td style=\"text-align: center;\">             </td><td style=\"text-align: center;\">             </td><td style=\"text-align: center;\">             </td><td style=\"text-align: center;\">              </td><td style=\"text-align: center;\">              </td><td style=\"text-align: center;\">              </td><td style=\"text-align: center;\">      198       </td><td style=\"text-align: center;\"> 0.5542±0.0100  </td><td style=\"text-align: center;\">0.5352</td><td style=\"text-align: center;\">0.5679</td></tr>\n",
       "<tr><td style=\"text-align: center;\">            </td><td style=\"text-align: center;\">           </td><td style=\"text-align: center;\">     ✓     </td><td style=\"text-align: center;\">             </td><td style=\"text-align: center;\">             </td><td style=\"text-align: center;\">             </td><td style=\"text-align: center;\">              </td><td style=\"text-align: center;\">              </td><td style=\"text-align: center;\">              </td><td style=\"text-align: center;\">      432       </td><td style=\"text-align: center;\"> 0.5747±0.0126  </td><td style=\"text-align: center;\">0.5553</td><td style=\"text-align: center;\">0.5985</td></tr>\n",
       "<tr><td style=\"text-align: center;\">            </td><td style=\"text-align: center;\">           </td><td style=\"text-align: center;\">           </td><td style=\"text-align: center;\">      ✓      </td><td style=\"text-align: center;\">             </td><td style=\"text-align: center;\">             </td><td style=\"text-align: center;\">              </td><td style=\"text-align: center;\">              </td><td style=\"text-align: center;\">              </td><td style=\"text-align: center;\">       21       </td><td style=\"text-align: center;\"> 0.5779±0.0138  </td><td style=\"text-align: center;\">0.5601</td><td style=\"text-align: center;\">0.603 </td></tr>\n",
       "<tr><td style=\"text-align: center;\">            </td><td style=\"text-align: center;\">           </td><td style=\"text-align: center;\">           </td><td style=\"text-align: center;\">             </td><td style=\"text-align: center;\">      ✓      </td><td style=\"text-align: center;\">             </td><td style=\"text-align: center;\">              </td><td style=\"text-align: center;\">              </td><td style=\"text-align: center;\">              </td><td style=\"text-align: center;\">      210       </td><td style=\"text-align: center;\"> 0.6572±0.0124  </td><td style=\"text-align: center;\">0.6264</td><td style=\"text-align: center;\">0.6743</td></tr>\n",
       "<tr><td style=\"text-align: center;\">            </td><td style=\"text-align: center;\">           </td><td style=\"text-align: center;\">           </td><td style=\"text-align: center;\">             </td><td style=\"text-align: center;\">             </td><td style=\"text-align: center;\">      ✓      </td><td style=\"text-align: center;\">              </td><td style=\"text-align: center;\">              </td><td style=\"text-align: center;\">              </td><td style=\"text-align: center;\">      210       </td><td style=\"text-align: center;\"> 0.6657±0.0092  </td><td style=\"text-align: center;\">0.643 </td><td style=\"text-align: center;\">0.6769</td></tr>\n",
       "<tr><td style=\"text-align: center;\">            </td><td style=\"text-align: center;\">           </td><td style=\"text-align: center;\">           </td><td style=\"text-align: center;\">             </td><td style=\"text-align: center;\">             </td><td style=\"text-align: center;\">             </td><td style=\"text-align: center;\">      ✓       </td><td style=\"text-align: center;\">              </td><td style=\"text-align: center;\">              </td><td style=\"text-align: center;\">       55       </td><td style=\"text-align: center;\"> 0.5904±0.0154  </td><td style=\"text-align: center;\">0.5633</td><td style=\"text-align: center;\">0.6197</td></tr>\n",
       "<tr><td style=\"text-align: center;\">            </td><td style=\"text-align: center;\">           </td><td style=\"text-align: center;\">           </td><td style=\"text-align: center;\">             </td><td style=\"text-align: center;\">             </td><td style=\"text-align: center;\">             </td><td style=\"text-align: center;\">              </td><td style=\"text-align: center;\">      ✓       </td><td style=\"text-align: center;\">              </td><td style=\"text-align: center;\">      1485      </td><td style=\"text-align: center;\"> 0.6958±0.0169  </td><td style=\"text-align: center;\">0.6672</td><td style=\"text-align: center;\">0.7239</td></tr>\n",
       "<tr><td style=\"text-align: center;\">            </td><td style=\"text-align: center;\">           </td><td style=\"text-align: center;\">           </td><td style=\"text-align: center;\">             </td><td style=\"text-align: center;\">             </td><td style=\"text-align: center;\">             </td><td style=\"text-align: center;\">              </td><td style=\"text-align: center;\">              </td><td style=\"text-align: center;\">      ✓       </td><td style=\"text-align: center;\">      1485      </td><td style=\"text-align: center;\"> 0.7217±0.0118  </td><td style=\"text-align: center;\">0.703 </td><td style=\"text-align: center;\">0.7342</td></tr>\n",
       "<tr><td style=\"text-align: center;\">            </td><td style=\"text-align: center;\">     ✓     </td><td style=\"text-align: center;\">     ✓     </td><td style=\"text-align: center;\">             </td><td style=\"text-align: center;\">             </td><td style=\"text-align: center;\">             </td><td style=\"text-align: center;\">      ✓       </td><td style=\"text-align: center;\">              </td><td style=\"text-align: center;\">              </td><td style=\"text-align: center;\">      685       </td><td style=\"text-align: center;\"> 0.6110±0.0169  </td><td style=\"text-align: center;\">0.5829</td><td style=\"text-align: center;\">0.6481</td></tr>\n",
       "<tr><td style=\"text-align: center;\">            </td><td style=\"text-align: center;\">     ✓     </td><td style=\"text-align: center;\">     ✓     </td><td style=\"text-align: center;\">             </td><td style=\"text-align: center;\">             </td><td style=\"text-align: center;\">             </td><td style=\"text-align: center;\">              </td><td style=\"text-align: center;\">      ✓       </td><td style=\"text-align: center;\">              </td><td style=\"text-align: center;\">      2115      </td><td style=\"text-align: center;\"> 0.7007±0.0170  </td><td style=\"text-align: center;\">0.6688</td><td style=\"text-align: center;\">0.7279</td></tr>\n",
       "<tr><td style=\"text-align: center;\">            </td><td style=\"text-align: center;\">     ✓     </td><td style=\"text-align: center;\">     ✓     </td><td style=\"text-align: center;\">             </td><td style=\"text-align: center;\">             </td><td style=\"text-align: center;\">             </td><td style=\"text-align: center;\">              </td><td style=\"text-align: center;\">              </td><td style=\"text-align: center;\">      ✓       </td><td style=\"text-align: center;\">      2115      </td><td style=\"text-align: center;\"> 0.7251±0.0132  </td><td style=\"text-align: center;\">0.6933</td><td style=\"text-align: center;\">0.737 </td></tr>\n",
       "<tr><td style=\"text-align: center;\">            </td><td style=\"text-align: center;\">     ✓     </td><td style=\"text-align: center;\">     ✓     </td><td style=\"text-align: center;\">             </td><td style=\"text-align: center;\">             </td><td style=\"text-align: center;\">             </td><td style=\"text-align: center;\">      ✓       </td><td style=\"text-align: center;\">      ✓       </td><td style=\"text-align: center;\">              </td><td style=\"text-align: center;\">      2170      </td><td style=\"text-align: center;\"> 0.7023±0.0150  </td><td style=\"text-align: center;\">0.6724</td><td style=\"text-align: center;\">0.7272</td></tr>\n",
       "<tr><td style=\"text-align: center;\">            </td><td style=\"text-align: center;\">     ✓     </td><td style=\"text-align: center;\">     ✓     </td><td style=\"text-align: center;\">             </td><td style=\"text-align: center;\">             </td><td style=\"text-align: center;\">             </td><td style=\"text-align: center;\">      ✓       </td><td style=\"text-align: center;\">              </td><td style=\"text-align: center;\">      ✓       </td><td style=\"text-align: center;\">      2170      </td><td style=\"text-align: center;\"> 0.7247±0.0093  </td><td style=\"text-align: center;\">0.7116</td><td style=\"text-align: center;\">0.742 </td></tr>\n",
       "<tr><td style=\"text-align: center;\">     ✓      </td><td style=\"text-align: center;\">     ✓     </td><td style=\"text-align: center;\">     ✓     </td><td style=\"text-align: center;\">             </td><td style=\"text-align: center;\">             </td><td style=\"text-align: center;\">             </td><td style=\"text-align: center;\">      ✓       </td><td style=\"text-align: center;\">              </td><td style=\"text-align: center;\">      ✓       </td><td style=\"text-align: center;\">      2192      </td><td style=\"text-align: center;\"> 0.7255±0.0173  </td><td style=\"text-align: center;\">0.6972</td><td style=\"text-align: center;\">0.7504</td></tr>\n",
       "</tbody>\n",
       "</table>"
      ],
      "text/plain": [
       "<IPython.core.display.HTML object>"
      ]
     },
     "execution_count": 38,
     "metadata": {},
     "output_type": "execute_result"
    }
   ],
   "source": [
    "plot_table(\n",
    "    *load_data(\n",
    "        \"../artifacts/2021-06-26-paper-submission-logistic\",\n",
    "        unimodalities + multimodalities,\n",
    "        assert_same_random_seed_commit=True\n",
    "    )\n",
    ")"
   ]
  },
  {
   "cell_type": "code",
   "execution_count": 39,
   "metadata": {},
   "outputs": [],
   "source": [
    "# important remark: make sure the column header is labelled correctly. \n",
    "\n",
    "# plot_table(\n",
    "#     *load_data(\n",
    "#         \"../artifacts/2021-07-25-models-with-auprg-objective\",\n",
    "#         unimodalities + multimodalities,\n",
    "#         assert_same_random_seed_commit=True\n",
    "#     )\n",
    "# )"
   ]
  },
  {
   "cell_type": "markdown",
   "metadata": {},
   "source": [
    "## Models with Area Under Precision Recall Curve"
   ]
  },
  {
   "cell_type": "code",
   "execution_count": 41,
   "metadata": {},
   "outputs": [],
   "source": [
    "# important remark: make sure the column header is labelled correctly. \n",
    "\n",
    "# dev_data, dev_headers = load_data(\n",
    "#     \"../artifacts/2021-07-25-models-with-auprg-objective\",\n",
    "#     unimodalities + multimodalities,\n",
    "#     assert_same_random_seed_commit=False\n",
    "# )\n",
    "\n",
    "# plot_table(dev_data,  dev_headers)"
   ]
  },
  {
   "cell_type": "markdown",
   "metadata": {},
   "source": [
    "## Models with AUROC and After Removing Withdrawing Participants"
   ]
  },
  {
   "cell_type": "code",
   "execution_count": 42,
   "metadata": {},
   "outputs": [
    {
     "name": "stdout",
     "output_type": "stream",
     "text": [
      "Statistics from ../artifacts/2021-09-05-participants-withdraw-and-auroc\n"
     ]
    },
    {
     "data": {
      "text/html": [
       "<table>\n",
       "<thead>\n",
       "<tr><th style=\"text-align: center;\"> controlled </th><th style=\"text-align: center;\"> structure </th><th style=\"text-align: center;\"> diffusion </th><th style=\"text-align: center;\"> rfmri_CA_25 </th><th style=\"text-align: center;\"> rfmri_FC_25 </th><th style=\"text-align: center;\"> rfmri_PC_25 </th><th style=\"text-align: center;\"> rfmri_CA_100 </th><th style=\"text-align: center;\"> rfmri_FC_100 </th><th style=\"text-align: center;\"> rfmri_PC_100 </th><th style=\"text-align: center;\"> Total Features </th><th style=\"text-align: center;\"> auroc:mean±std </th><th style=\"text-align: center;\"> min  </th><th style=\"text-align: center;\"> max  </th></tr>\n",
       "</thead>\n",
       "<tbody>\n",
       "<tr><td style=\"text-align: center;\">     ✓      </td><td style=\"text-align: center;\">           </td><td style=\"text-align: center;\">           </td><td style=\"text-align: center;\">             </td><td style=\"text-align: center;\">             </td><td style=\"text-align: center;\">             </td><td style=\"text-align: center;\">              </td><td style=\"text-align: center;\">              </td><td style=\"text-align: center;\">              </td><td style=\"text-align: center;\">       22       </td><td style=\"text-align: center;\"> 0.5525±0.0120  </td><td style=\"text-align: center;\">0.5223</td><td style=\"text-align: center;\">0.5681</td></tr>\n",
       "<tr><td style=\"text-align: center;\">            </td><td style=\"text-align: center;\">     ✓     </td><td style=\"text-align: center;\">           </td><td style=\"text-align: center;\">             </td><td style=\"text-align: center;\">             </td><td style=\"text-align: center;\">             </td><td style=\"text-align: center;\">              </td><td style=\"text-align: center;\">              </td><td style=\"text-align: center;\">              </td><td style=\"text-align: center;\">      198       </td><td style=\"text-align: center;\"> 0.5539±0.0075  </td><td style=\"text-align: center;\">0.5432</td><td style=\"text-align: center;\">0.5642</td></tr>\n",
       "<tr><td style=\"text-align: center;\">            </td><td style=\"text-align: center;\">           </td><td style=\"text-align: center;\">     ✓     </td><td style=\"text-align: center;\">             </td><td style=\"text-align: center;\">             </td><td style=\"text-align: center;\">             </td><td style=\"text-align: center;\">              </td><td style=\"text-align: center;\">              </td><td style=\"text-align: center;\">              </td><td style=\"text-align: center;\">      432       </td><td style=\"text-align: center;\"> 0.5755±0.0144  </td><td style=\"text-align: center;\">0.549 </td><td style=\"text-align: center;\">0.5982</td></tr>\n",
       "<tr><td style=\"text-align: center;\">            </td><td style=\"text-align: center;\">           </td><td style=\"text-align: center;\">           </td><td style=\"text-align: center;\">      ✓      </td><td style=\"text-align: center;\">             </td><td style=\"text-align: center;\">             </td><td style=\"text-align: center;\">              </td><td style=\"text-align: center;\">              </td><td style=\"text-align: center;\">              </td><td style=\"text-align: center;\">       21       </td><td style=\"text-align: center;\"> 0.5775±0.0134  </td><td style=\"text-align: center;\">0.5551</td><td style=\"text-align: center;\">0.598 </td></tr>\n",
       "<tr><td style=\"text-align: center;\">            </td><td style=\"text-align: center;\">           </td><td style=\"text-align: center;\">           </td><td style=\"text-align: center;\">             </td><td style=\"text-align: center;\">      ✓      </td><td style=\"text-align: center;\">             </td><td style=\"text-align: center;\">              </td><td style=\"text-align: center;\">              </td><td style=\"text-align: center;\">              </td><td style=\"text-align: center;\">      210       </td><td style=\"text-align: center;\"> 0.6556±0.0137  </td><td style=\"text-align: center;\">0.6223</td><td style=\"text-align: center;\">0.6732</td></tr>\n",
       "<tr><td style=\"text-align: center;\">            </td><td style=\"text-align: center;\">           </td><td style=\"text-align: center;\">           </td><td style=\"text-align: center;\">             </td><td style=\"text-align: center;\">             </td><td style=\"text-align: center;\">      ✓      </td><td style=\"text-align: center;\">              </td><td style=\"text-align: center;\">              </td><td style=\"text-align: center;\">              </td><td style=\"text-align: center;\">      210       </td><td style=\"text-align: center;\"> 0.6655±0.0099  </td><td style=\"text-align: center;\">0.6423</td><td style=\"text-align: center;\">0.6793</td></tr>\n",
       "<tr><td style=\"text-align: center;\">            </td><td style=\"text-align: center;\">           </td><td style=\"text-align: center;\">           </td><td style=\"text-align: center;\">             </td><td style=\"text-align: center;\">             </td><td style=\"text-align: center;\">             </td><td style=\"text-align: center;\">      ✓       </td><td style=\"text-align: center;\">              </td><td style=\"text-align: center;\">              </td><td style=\"text-align: center;\">       55       </td><td style=\"text-align: center;\"> 0.5900±0.0164  </td><td style=\"text-align: center;\">0.5595</td><td style=\"text-align: center;\">0.6184</td></tr>\n",
       "<tr><td style=\"text-align: center;\">            </td><td style=\"text-align: center;\">           </td><td style=\"text-align: center;\">           </td><td style=\"text-align: center;\">             </td><td style=\"text-align: center;\">             </td><td style=\"text-align: center;\">             </td><td style=\"text-align: center;\">              </td><td style=\"text-align: center;\">      ✓       </td><td style=\"text-align: center;\">              </td><td style=\"text-align: center;\">      1485      </td><td style=\"text-align: center;\"> 0.7001±0.0152  </td><td style=\"text-align: center;\">0.6808</td><td style=\"text-align: center;\">0.7294</td></tr>\n",
       "<tr><td style=\"text-align: center;\">            </td><td style=\"text-align: center;\">           </td><td style=\"text-align: center;\">           </td><td style=\"text-align: center;\">             </td><td style=\"text-align: center;\">             </td><td style=\"text-align: center;\">             </td><td style=\"text-align: center;\">              </td><td style=\"text-align: center;\">              </td><td style=\"text-align: center;\">      ✓       </td><td style=\"text-align: center;\">      1485      </td><td style=\"text-align: center;\"> 0.7243±0.0158  </td><td style=\"text-align: center;\">0.6944</td><td style=\"text-align: center;\">0.7437</td></tr>\n",
       "<tr><td style=\"text-align: center;\">            </td><td style=\"text-align: center;\">     ✓     </td><td style=\"text-align: center;\">     ✓     </td><td style=\"text-align: center;\">             </td><td style=\"text-align: center;\">             </td><td style=\"text-align: center;\">             </td><td style=\"text-align: center;\">      ✓       </td><td style=\"text-align: center;\">              </td><td style=\"text-align: center;\">              </td><td style=\"text-align: center;\">      685       </td><td style=\"text-align: center;\"> 0.6086±0.0161  </td><td style=\"text-align: center;\">0.5813</td><td style=\"text-align: center;\"> 0.64 </td></tr>\n",
       "<tr><td style=\"text-align: center;\">            </td><td style=\"text-align: center;\">     ✓     </td><td style=\"text-align: center;\">     ✓     </td><td style=\"text-align: center;\">             </td><td style=\"text-align: center;\">             </td><td style=\"text-align: center;\">             </td><td style=\"text-align: center;\">              </td><td style=\"text-align: center;\">      ✓       </td><td style=\"text-align: center;\">              </td><td style=\"text-align: center;\">      2115      </td><td style=\"text-align: center;\"> 0.7004±0.0218  </td><td style=\"text-align: center;\">0.666 </td><td style=\"text-align: center;\"> 0.74 </td></tr>\n",
       "<tr><td style=\"text-align: center;\">            </td><td style=\"text-align: center;\">     ✓     </td><td style=\"text-align: center;\">     ✓     </td><td style=\"text-align: center;\">             </td><td style=\"text-align: center;\">             </td><td style=\"text-align: center;\">             </td><td style=\"text-align: center;\">              </td><td style=\"text-align: center;\">              </td><td style=\"text-align: center;\">      ✓       </td><td style=\"text-align: center;\">      2115      </td><td style=\"text-align: center;\"> 0.7204±0.0141  </td><td style=\"text-align: center;\">0.7016</td><td style=\"text-align: center;\">0.7436</td></tr>\n",
       "<tr><td style=\"text-align: center;\">            </td><td style=\"text-align: center;\">     ✓     </td><td style=\"text-align: center;\">     ✓     </td><td style=\"text-align: center;\">             </td><td style=\"text-align: center;\">             </td><td style=\"text-align: center;\">             </td><td style=\"text-align: center;\">      ✓       </td><td style=\"text-align: center;\">      ✓       </td><td style=\"text-align: center;\">              </td><td style=\"text-align: center;\">      2170      </td><td style=\"text-align: center;\"> 0.7037±0.0146  </td><td style=\"text-align: center;\">0.6826</td><td style=\"text-align: center;\">0.7301</td></tr>\n",
       "<tr><td style=\"text-align: center;\">            </td><td style=\"text-align: center;\">     ✓     </td><td style=\"text-align: center;\">     ✓     </td><td style=\"text-align: center;\">             </td><td style=\"text-align: center;\">             </td><td style=\"text-align: center;\">             </td><td style=\"text-align: center;\">      ✓       </td><td style=\"text-align: center;\">              </td><td style=\"text-align: center;\">      ✓       </td><td style=\"text-align: center;\">      2170      </td><td style=\"text-align: center;\"> 0.7231±0.0206  </td><td style=\"text-align: center;\">0.6845</td><td style=\"text-align: center;\">0.7471</td></tr>\n",
       "<tr><td style=\"text-align: center;\">     ✓      </td><td style=\"text-align: center;\">     ✓     </td><td style=\"text-align: center;\">     ✓     </td><td style=\"text-align: center;\">             </td><td style=\"text-align: center;\">             </td><td style=\"text-align: center;\">             </td><td style=\"text-align: center;\">      ✓       </td><td style=\"text-align: center;\">              </td><td style=\"text-align: center;\">      ✓       </td><td style=\"text-align: center;\">      2192      </td><td style=\"text-align: center;\"> 0.7234±0.0174  </td><td style=\"text-align: center;\">0.6862</td><td style=\"text-align: center;\">0.7422</td></tr>\n",
       "</tbody>\n",
       "</table>"
      ],
      "text/plain": [
       "<IPython.core.display.HTML object>"
      ]
     },
     "execution_count": 42,
     "metadata": {},
     "output_type": "execute_result"
    }
   ],
   "source": [
    "\n",
    "dev_data, dev_headers = load_data(\n",
    "    \"../artifacts/2021-09-05-participants-withdraw-and-auroc\",\n",
    "    unimodalities + multimodalities,\n",
    "    assert_same_random_seed_commit=False\n",
    ")\n",
    "\n",
    "plot_table(dev_data,  dev_headers)"
   ]
  },
  {
   "cell_type": "code",
   "execution_count": null,
   "metadata": {},
   "outputs": [],
   "source": []
  }
 ],
 "metadata": {
  "kernelspec": {
   "display_name": "Python 3",
   "language": "python",
   "name": "python3"
  },
  "language_info": {
   "codemirror_mode": {
    "name": "ipython",
    "version": 3
   },
   "file_extension": ".py",
   "mimetype": "text/x-python",
   "name": "python",
   "nbconvert_exporter": "python",
   "pygments_lexer": "ipython3",
   "version": "3.8.1"
  },
  "toc": {
   "base_numbering": 1,
   "nav_menu": {},
   "number_sections": true,
   "sideBar": true,
   "skip_h1_title": false,
   "title_cell": "Table of Contents",
   "title_sidebar": "Contents",
   "toc_cell": false,
   "toc_position": {},
   "toc_section_display": true,
   "toc_window_display": false
  }
 },
 "nbformat": 4,
 "nbformat_minor": 4
}
