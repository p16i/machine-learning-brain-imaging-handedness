{
 "cells": [
  {
   "cell_type": "code",
   "execution_count": 1,
   "metadata": {},
   "outputs": [],
   "source": [
    "import numpy as np\n",
    "\n",
    "from mlhand import dataset, config\n",
    "\n",
    "from matplotlib import pyplot as plt\n",
    "\n",
    "import pandas as pd"
   ]
  },
  {
   "cell_type": "code",
   "execution_count": 2,
   "metadata": {},
   "outputs": [],
   "source": [
    "df = dataset.load_raw_data()"
   ]
  },
  {
   "cell_type": "code",
   "execution_count": 3,
   "metadata": {},
   "outputs": [
    {
     "data": {
      "image/png": "[encoded data removed]",
      "text/plain": [
       "<Figure size 432x288 with 1 Axes>"
      ]
     },
     "metadata": {
      "needs_background": "light"
     },
     "output_type": "display_data"
    }
   ],
   "source": [
    "percentage_rh = np.mean(df.Handedness == 1)*100\n",
    "df.Handedness.hist(grid=False)\n",
    "plt.xticks([1, 2, 3], [\"Right-Handed (RH)\", \"Left-Handed (LH)\", \"Mixed-Handed (MH)\"])\n",
    "plt.text(\n",
    "        1.13,\n",
    "        np.sum(df.Handedness == 1)+ 1000,\n",
    "        f\"{np.sum(df.Handedness == 1)} ({percentage_rh:.0f}%)\",\n",
    "        {\n",
    "            'horizontalalignment': 'center'\n",
    "        }\n",
    "    )\n",
    "\n",
    "\n",
    "plt.text(\n",
    "        2.10,\n",
    "        4500,\n",
    "        f\"{np.sum(df.Handedness == 2)} ({np.mean(df.Handedness == 2)*100:.0f}%)\",\n",
    "        {\n",
    "            'horizontalalignment': 'center'\n",
    "        }\n",
    "    )\n",
    "\n",
    "plt.text(\n",
    "        2.90,\n",
    "        1500,\n",
    "        f\"{np.sum(df.Handedness == 3)} ({np.mean(df.Handedness == 3)*100:.0f}%)\",\n",
    "        {\n",
    "            'horizontalalignment': 'center'\n",
    "        }\n",
    "    )\n",
    "\n",
    "plt.ylim(0, 37000)\n",
    "plt.title(\"UKB's Handedness Distribution (%d subjects)\" % len(df))\n",
    "\n",
    "plt.savefig(\"../figures/fig-1-handedness-distribution.pdf\")"
   ]
  },
  {
   "cell_type": "markdown",
   "metadata": {},
   "source": [
    "## Demographic Information"
   ]
  },
  {
   "cell_type": "code",
   "execution_count": 7,
   "metadata": {},
   "outputs": [],
   "source": [
    "df_controlled = dataset.get_unimodal_data(\"controlled_variables\")"
   ]
  },
  {
   "cell_type": "code",
   "execution_count": 36,
   "metadata": {},
   "outputs": [
    {
     "data": {
      "text/plain": [
       "(36024, 24)"
      ]
     },
     "execution_count": 36,
     "metadata": {},
     "output_type": "execute_result"
    }
   ],
   "source": [
    "df_controlled.shape"
   ]
  },
  {
   "cell_type": "code",
   "execution_count": 28,
   "metadata": {},
   "outputs": [],
   "source": [
    "ages = df_controlled[\"confound-generic:age\"]\n",
    "sex = df_controlled[\"confound-generic:sex\"]"
   ]
  },
  {
   "cell_type": "code",
   "execution_count": 26,
   "metadata": {},
   "outputs": [
    {
     "name": "stdout",
     "output_type": "stream",
     "text": [
      "Median 64.0\n",
      "Range: 45-81\n"
     ]
    }
   ],
   "source": [
    "print(f\"Median {ages.median()}\")\n",
    "print(f\"Range: {ages.min()}-{ages.max()}\")"
   ]
  },
  {
   "cell_type": "code",
   "execution_count": 35,
   "metadata": {},
   "outputs": [
    {
     "name": "stdout",
     "output_type": "stream",
     "text": [
      "Number of female subjects 19171 (53%)\n"
     ]
    }
   ],
   "source": [
    "# According to https://biobank.ndph.ox.ac.uk/ukb/coding.cgi?id=9, \n",
    "# - 0 is female\n",
    "# - 1 is male\n",
    "# According to the webpage, the percentage of female is ~54%.\n",
    "\n",
    "num_females = (sex == 0).sum()\n",
    "print(f\"Number of female subjects {num_females:d} ({num_females/sex.shape[0]*100:.0f}%)\")"
   ]
  },
  {
   "cell_type": "code",
   "execution_count": 38,
   "metadata": {},
   "outputs": [
    {
     "data": {
      "image/png": "[encoded data removed]",
      "text/plain": [
       "<Figure size 432x288 with 1 Axes>"
      ]
     },
     "metadata": {
      "needs_background": "light"
     },
     "output_type": "display_data"
    }
   ],
   "source": [
    "plt.title(f\"Histogram of Ages (N={sex.shape[0]})\")\n",
    "plt.hist(\n",
    "    ages,\n",
    "    density=True,\n",
    ");"
   ]
  },
  {
   "cell_type": "code",
   "execution_count": null,
   "metadata": {},
   "outputs": [],
   "source": []
  }
 ],
 "metadata": {
  "kernelspec": {
   "display_name": "Python 3",
   "language": "python",
   "name": "python3"
  },
  "language_info": {
   "codemirror_mode": {
    "name": "ipython",
    "version": 3
   },
   "file_extension": ".py",
   "mimetype": "text/x-python",
   "name": "python",
   "nbconvert_exporter": "python",
   "pygments_lexer": "ipython3",
   "version": "3.8.1"
  },
  "toc": {
   "base_numbering": 1,
   "nav_menu": {},
   "number_sections": true,
   "sideBar": true,
   "skip_h1_title": false,
   "title_cell": "Table of Contents",
   "title_sidebar": "Contents",
   "toc_cell": false,
   "toc_position": {},
   "toc_section_display": true,
   "toc_window_display": false
  }
 },
 "nbformat": 4,
 "nbformat_minor": 4
}
